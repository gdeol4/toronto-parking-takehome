{
 "cells": [
  {
   "cell_type": "code",
   "execution_count": 2,
   "id": "004c740e",
   "metadata": {},
   "outputs": [],
   "source": [
    "import pandas as pd\n",
    "import numpy as np\n",
    "import json\n",
    "import warnings\n",
    "warnings.filterwarnings('ignore')"
   ]
  },
  {
   "cell_type": "code",
   "execution_count": 10,
   "id": "1ed87a4f",
   "metadata": {},
   "outputs": [
    {
     "name": "stdout",
     "output_type": "stream",
     "text": [
      "CPU times: total: 62.5 ms\n",
      "Wall time: 33.3 ms\n"
     ]
    }
   ],
   "source": [
    "%%time\n",
    "\n",
    "with open('green-p-parking-2019.json') as f:\n",
    "    data = json.loads(f.read())"
   ]
  },
  {
   "cell_type": "code",
   "execution_count": 12,
   "id": "a6b640ab",
   "metadata": {},
   "outputs": [
    {
     "name": "stdout",
     "output_type": "stream",
     "text": [
      "CPU times: total: 15.6 ms\n",
      "Wall time: 10.7 ms\n"
     ]
    }
   ],
   "source": [
    "%%time\n",
    "df = pd.json_normalize(data['carparks'])\n",
    "rate_details = df['rate_details.periods'].tolist()"
   ]
  },
  {
   "cell_type": "code",
   "execution_count": 15,
   "id": "dae7dee1",
   "metadata": {},
   "outputs": [],
   "source": [
    "def flatten_json(nested_json: dict, exclude: list=['']) -> dict:\n",
    "    \"\"\"\n",
    "    Flatten a list of nested dicts.\n",
    "    \"\"\"\n",
    "    out = dict()\n",
    "    def flatten(x: (list, dict, str), name: str='', exclude=exclude):\n",
    "        if type(x) is dict:\n",
    "            for a in x:\n",
    "                if a not in exclude:\n",
    "                    flatten(x[a], f'{name}{a}_')\n",
    "        elif type(x) is list:\n",
    "            i = 0\n",
    "            for a in x:\n",
    "                flatten(a, f'{name}{i}_')\n",
    "                i += 1\n",
    "        else:\n",
    "            out[name[:-1]] = x\n",
    "\n",
    "    flatten(nested_json)\n",
    "    return out"
   ]
  },
  {
   "cell_type": "code",
   "execution_count": 16,
   "id": "93ad817b",
   "metadata": {},
   "outputs": [],
   "source": [
    "df_flat = pd.DataFrame([flatten_json(x) for x in rate_details])"
   ]
  },
  {
   "cell_type": "code",
   "execution_count": 21,
   "id": "2db90fa0",
   "metadata": {},
   "outputs": [],
   "source": [
    "listoflists = []\n",
    "\n",
    "for col in df_flat:\n",
    "    listoflists.append(df_flat[col].unique())"
   ]
  },
  {
   "cell_type": "code",
   "execution_count": 26,
   "id": "9cb865de",
   "metadata": {},
   "outputs": [],
   "source": [
    "rates_df = pd.DataFrame(listoflists)"
   ]
  },
  {
   "cell_type": "code",
   "execution_count": 27,
   "id": "5f3e01f7",
   "metadata": {},
   "outputs": [],
   "source": [
    "rx = (r\"(\\$?(?:\\d+,)*\\d+\\.\\d+\\-?)\")\n",
    "\n",
    "rates_df[4] = rates_df[4].str.extract(rx)"
   ]
  },
  {
   "cell_type": "code",
   "execution_count": 28,
   "id": "1cd26c99",
   "metadata": {},
   "outputs": [],
   "source": [
    "re_lists = []\n",
    "\n",
    "for col in rates_df:\n",
    "    re_lists.append(rates_df[col].str.extract(rx))"
   ]
  },
  {
   "cell_type": "code",
   "execution_count": 34,
   "id": "29be27ae",
   "metadata": {},
   "outputs": [],
   "source": [
    "rates_final = pd.concat(re_lists)\n",
    "\n",
    "rates_final.rename(columns = {0:'rate_values'}, inplace = True)\n",
    "\n",
    "rates_final.dropna()\n",
    "\n",
    "rates_final[\"rate_values\"] = rates_final[\"rate_values\"].str[1:]\n",
    "\n",
    "max_rate_val = rates_final.max()"
   ]
  },
  {
   "cell_type": "code",
   "execution_count": 35,
   "id": "5940871c",
   "metadata": {},
   "outputs": [
    {
     "name": "stdout",
     "output_type": "stream",
     "text": [
      "The max rate value for any given period is:  $ Series([], dtype: float64)\n"
     ]
    }
   ],
   "source": [
    "print(\"The max rate value for any given period is: \",  \"$\", max_rate_val, )"
   ]
  }
 ],
 "metadata": {
  "kernelspec": {
   "display_name": "Python 3 (ipykernel)",
   "language": "python",
   "name": "python3"
  },
  "language_info": {
   "codemirror_mode": {
    "name": "ipython",
    "version": 3
   },
   "file_extension": ".py",
   "mimetype": "text/x-python",
   "name": "python",
   "nbconvert_exporter": "python",
   "pygments_lexer": "ipython3",
   "version": "3.10.4"
  }
 },
 "nbformat": 4,
 "nbformat_minor": 5
}
